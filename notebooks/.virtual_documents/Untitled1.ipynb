from thetadata import ThetaClient, OptionReqType, OptionRight, DateRange
from datetime import date

username = "aayushahuja.in@gmail.com"
password = "brilliant12345"

client = ThetaClient(username=username, passwd=password)


with client.connect():
    data = client.get_hist_option(
        req=OptionReqType.EOD,  # End of day data
        root="AAPL",  # Ticker symbol
        exp=date(2024, 12, 20),  # Expiration date
        strike=230,  # Strike price
        right=OptionRight.CALL,  # Option type (CALL or PUT)
        date_range=DateRange(date(2024, 9, 1), date(2024, 9, 12))  # Date range for historical data
    )


import http.client

conn = http.client.HTTPConnection("127.0.0.1:25510")

headers = { 'Accept': "application/json" }

conn.request("GET", "/v2/list/expirations?root=AAPL", headers=headers)

res = conn.getresponse()
data = res.read()

print(data.decode("utf-8"))


import http.client

conn = http.client.HTTPConnection("127.0.0.1:25510")

headers = { 'Accept': "application/json" }

conn.request("GET", "/v2/list/strikes?root=AAPL&exp=20240927", headers=headers)

res = conn.getresponse()
data = res.read()

print(data.decode("utf-8"))


expiration = '20240927'
strike = '227500'
start_date = '20240909'
end_date = '20240913'
import http.client

conn = http.client.HTTPConnection("127.0.0.1:25510")

headers = { 'Accept': "application/json" }

conn.request("GET", f'/v2/hist/option/eod?exp={expiration}&right=C&strike={strike}&start_date={start_date}&end_date={end_date}&root=AAPL', headers=headers)

res = conn.getresponse()
data = res.read()

print(data.decode("utf-8"))


import json
response = json.loads(data.decode("utf-8"))

header = response['header']['format']
for i in range(len(header)):
    print(i, header[i])


data = response['response']
response['response'][0][5]
[x[5] for x in response['response']]


bid = [x[10] for x in data]
ask = [x[14] for x in data]
mid = [(b+a)/2 for b, a in zip(bid, ask)]
close = [x[5] for x in data]
for i in range(len(bid)):
    print(bid[i], ask[i], mid[i], close[i])


import http.client

conn = http.client.HTTPConnection("127.0.0.1:25510")

conn.request("GET", "/v2/snapshot/stock/ohlc?root=AAPL")

res = conn.getresponse()
data = res.read()

print(data.decode("utf-8"))


import http.client

start_date = '20240909'
end_date = '20240913'

conn = http.client.HTTPConnection("127.0.0.1:25510")

headers = { 'Accept': "application/json" }

conn.request("GET", f"/v2/hist/stock/eod?root=AAPL&start_date={start_date}&end_date={end_date}", headers=headers)

res = conn.getresponse()
data = res.read()

print(data.decode("utf-8"))


["ms_of_day","ms_of_day2","open",  "high",  "low",   "close", "volume", "count", "bid_size","bid_exchange","bid","bid_condition","ask_size","ask_exchange","ask","ask_condition","date"]
[62170944,    62168575,   222.270, 223.550, 219.820, 222.770, 37392454,554766,92,1,222.150,0,2,1,222.230,0,20240912],

[62167743,    62159609,   223.730, 224.040, 221.910, 222.500, 36676943, 539932,  7,1,222.480,0,13,7,222.490,0,20240913]


import http.client

conn = http.client.HTTPConnection("127.0.0.1:25510")

headers = { 'Accept': "application/json" }

conn.request("GET", "/v2/bulk_at_time/option/quote?root=AAPL&exp=20231103&strike=170000&right=C&start_date=20231103&end_date=20231103&ivl=900000", headers=headers)

res = conn.getresponse()
data = res.read()

print(data.decode("utf-8"))



